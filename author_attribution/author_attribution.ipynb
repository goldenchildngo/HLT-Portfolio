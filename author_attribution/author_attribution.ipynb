{
  "nbformat": 4,
  "nbformat_minor": 0,
  "metadata": {
    "colab": {
      "provenance": [],
      "collapsed_sections": []
    },
    "kernelspec": {
      "name": "python3",
      "display_name": "Python 3"
    },
    "language_info": {
      "name": "python"
    }
  },
  "cells": [
    {
      "cell_type": "code",
      "execution_count": 5,
      "metadata": {
        "colab": {
          "base_uri": "https://localhost:8080/",
          "height": 328
        },
        "id": "duwCFlqhLULm",
        "outputId": "6f5c1305-3edd-493c-c79b-4bb684aaf8eb"
      },
      "outputs": [
        {
          "output_type": "stream",
          "name": "stdout",
          "text": [
            "author\n",
            "HAMILTON                49\n",
            "HAMILTON AND MADISON     3\n",
            "HAMILTON OR MADISON     11\n",
            "JAY                      5\n",
            "MADISON                 15\n",
            "dtype: int64\n"
          ]
        },
        {
          "output_type": "execute_result",
          "data": {
            "text/plain": [
              "     author                                               text\n",
              "0  HAMILTON  FEDERALIST. No. 1 General Introduction For the...\n",
              "1       JAY  FEDERALIST No. 2 Concerning Dangers from Forei...\n",
              "2       JAY  FEDERALIST No. 3 The Same Subject Continued (C...\n",
              "3       JAY  FEDERALIST No. 4 The Same Subject Continued (C...\n",
              "4       JAY  FEDERALIST No. 5 The Same Subject Continued (C..."
            ],
            "text/html": [
              "\n",
              "  <div id=\"df-47ef0050-51bf-4e9f-852d-a66e4f95b0a6\">\n",
              "    <div class=\"colab-df-container\">\n",
              "      <div>\n",
              "<style scoped>\n",
              "    .dataframe tbody tr th:only-of-type {\n",
              "        vertical-align: middle;\n",
              "    }\n",
              "\n",
              "    .dataframe tbody tr th {\n",
              "        vertical-align: top;\n",
              "    }\n",
              "\n",
              "    .dataframe thead th {\n",
              "        text-align: right;\n",
              "    }\n",
              "</style>\n",
              "<table border=\"1\" class=\"dataframe\">\n",
              "  <thead>\n",
              "    <tr style=\"text-align: right;\">\n",
              "      <th></th>\n",
              "      <th>author</th>\n",
              "      <th>text</th>\n",
              "    </tr>\n",
              "  </thead>\n",
              "  <tbody>\n",
              "    <tr>\n",
              "      <th>0</th>\n",
              "      <td>HAMILTON</td>\n",
              "      <td>FEDERALIST. No. 1 General Introduction For the...</td>\n",
              "    </tr>\n",
              "    <tr>\n",
              "      <th>1</th>\n",
              "      <td>JAY</td>\n",
              "      <td>FEDERALIST No. 2 Concerning Dangers from Forei...</td>\n",
              "    </tr>\n",
              "    <tr>\n",
              "      <th>2</th>\n",
              "      <td>JAY</td>\n",
              "      <td>FEDERALIST No. 3 The Same Subject Continued (C...</td>\n",
              "    </tr>\n",
              "    <tr>\n",
              "      <th>3</th>\n",
              "      <td>JAY</td>\n",
              "      <td>FEDERALIST No. 4 The Same Subject Continued (C...</td>\n",
              "    </tr>\n",
              "    <tr>\n",
              "      <th>4</th>\n",
              "      <td>JAY</td>\n",
              "      <td>FEDERALIST No. 5 The Same Subject Continued (C...</td>\n",
              "    </tr>\n",
              "  </tbody>\n",
              "</table>\n",
              "</div>\n",
              "      <button class=\"colab-df-convert\" onclick=\"convertToInteractive('df-47ef0050-51bf-4e9f-852d-a66e4f95b0a6')\"\n",
              "              title=\"Convert this dataframe to an interactive table.\"\n",
              "              style=\"display:none;\">\n",
              "        \n",
              "  <svg xmlns=\"http://www.w3.org/2000/svg\" height=\"24px\"viewBox=\"0 0 24 24\"\n",
              "       width=\"24px\">\n",
              "    <path d=\"M0 0h24v24H0V0z\" fill=\"none\"/>\n",
              "    <path d=\"M18.56 5.44l.94 2.06.94-2.06 2.06-.94-2.06-.94-.94-2.06-.94 2.06-2.06.94zm-11 1L8.5 8.5l.94-2.06 2.06-.94-2.06-.94L8.5 2.5l-.94 2.06-2.06.94zm10 10l.94 2.06.94-2.06 2.06-.94-2.06-.94-.94-2.06-.94 2.06-2.06.94z\"/><path d=\"M17.41 7.96l-1.37-1.37c-.4-.4-.92-.59-1.43-.59-.52 0-1.04.2-1.43.59L10.3 9.45l-7.72 7.72c-.78.78-.78 2.05 0 2.83L4 21.41c.39.39.9.59 1.41.59.51 0 1.02-.2 1.41-.59l7.78-7.78 2.81-2.81c.8-.78.8-2.07 0-2.86zM5.41 20L4 18.59l7.72-7.72 1.47 1.35L5.41 20z\"/>\n",
              "  </svg>\n",
              "      </button>\n",
              "      \n",
              "  <style>\n",
              "    .colab-df-container {\n",
              "      display:flex;\n",
              "      flex-wrap:wrap;\n",
              "      gap: 12px;\n",
              "    }\n",
              "\n",
              "    .colab-df-convert {\n",
              "      background-color: #E8F0FE;\n",
              "      border: none;\n",
              "      border-radius: 50%;\n",
              "      cursor: pointer;\n",
              "      display: none;\n",
              "      fill: #1967D2;\n",
              "      height: 32px;\n",
              "      padding: 0 0 0 0;\n",
              "      width: 32px;\n",
              "    }\n",
              "\n",
              "    .colab-df-convert:hover {\n",
              "      background-color: #E2EBFA;\n",
              "      box-shadow: 0px 1px 2px rgba(60, 64, 67, 0.3), 0px 1px 3px 1px rgba(60, 64, 67, 0.15);\n",
              "      fill: #174EA6;\n",
              "    }\n",
              "\n",
              "    [theme=dark] .colab-df-convert {\n",
              "      background-color: #3B4455;\n",
              "      fill: #D2E3FC;\n",
              "    }\n",
              "\n",
              "    [theme=dark] .colab-df-convert:hover {\n",
              "      background-color: #434B5C;\n",
              "      box-shadow: 0px 1px 3px 1px rgba(0, 0, 0, 0.15);\n",
              "      filter: drop-shadow(0px 1px 2px rgba(0, 0, 0, 0.3));\n",
              "      fill: #FFFFFF;\n",
              "    }\n",
              "  </style>\n",
              "\n",
              "      <script>\n",
              "        const buttonEl =\n",
              "          document.querySelector('#df-47ef0050-51bf-4e9f-852d-a66e4f95b0a6 button.colab-df-convert');\n",
              "        buttonEl.style.display =\n",
              "          google.colab.kernel.accessAllowed ? 'block' : 'none';\n",
              "\n",
              "        async function convertToInteractive(key) {\n",
              "          const element = document.querySelector('#df-47ef0050-51bf-4e9f-852d-a66e4f95b0a6');\n",
              "          const dataTable =\n",
              "            await google.colab.kernel.invokeFunction('convertToInteractive',\n",
              "                                                     [key], {});\n",
              "          if (!dataTable) return;\n",
              "\n",
              "          const docLinkHtml = 'Like what you see? Visit the ' +\n",
              "            '<a target=\"_blank\" href=https://colab.research.google.com/notebooks/data_table.ipynb>data table notebook</a>'\n",
              "            + ' to learn more about interactive tables.';\n",
              "          element.innerHTML = '';\n",
              "          dataTable['output_type'] = 'display_data';\n",
              "          await google.colab.output.renderOutput(dataTable, element);\n",
              "          const docLink = document.createElement('div');\n",
              "          docLink.innerHTML = docLinkHtml;\n",
              "          element.appendChild(docLink);\n",
              "        }\n",
              "      </script>\n",
              "    </div>\n",
              "  </div>\n",
              "  "
            ]
          },
          "metadata": {},
          "execution_count": 5
        }
      ],
      "source": [
        "# read in csv file\n",
        "import pandas as pd\n",
        "federalist = pd.read_csv('federalist.csv')\n",
        "\n",
        "# convert the author column to categorical data\n",
        "s = pd.Series(federalist.author, dtype=\"category\")\n",
        "\n",
        "# display the first few rows and counts by author\n",
        "gb = federalist.groupby('author').apply(len)\n",
        "print(gb)\n",
        "federalist.head()"
      ]
    },
    {
      "cell_type": "code",
      "source": [
        "# divide into train and test\n",
        "from sklearn.model_selection import train_test_split\n",
        "\n",
        "X = federalist.text\n",
        "y = federalist.author\n",
        "X_train, X_test, y_train, y_test = train_test_split(X, y, test_size=0.2, train_size=0.8, random_state=1234)\n",
        "\n",
        "# display the shape of train and test\n",
        "print(X_train.shape)\n",
        "print(X_test.shape)"
      ],
      "metadata": {
        "colab": {
          "base_uri": "https://localhost:8080/"
        },
        "id": "lFOD-j0XWZdM",
        "outputId": "45f136dc-e0ff-41b0-aa27-ad1d8812a474"
      },
      "execution_count": 6,
      "outputs": [
        {
          "output_type": "stream",
          "name": "stdout",
          "text": [
            "(66,)\n",
            "(17,)\n"
          ]
        }
      ]
    },
    {
      "cell_type": "code",
      "source": [
        "import nltk\n",
        "nltk.download('stopwords')\n",
        "from nltk.corpus import stopwords\n",
        "from sklearn.feature_extraction.text import TfidfVectorizer\n",
        "\n",
        "# process the text by removing stop words and performing tf-idf vectorization\n",
        "stopwords = set(stopwords.words('english'))\n",
        "vectorizer = TfidfVectorizer(stop_words=stopwords)\n",
        "Xtrain = vectorizer.fit_transform(X_train)\n",
        "Xtest = vectorizer.transform(X_test)\n",
        "\n",
        "# output the training set shape and the test set shape\n",
        "print(Xtrain.shape)\n",
        "print(Xtest.shape)"
      ],
      "metadata": {
        "colab": {
          "base_uri": "https://localhost:8080/"
        },
        "id": "1vIOp20ijS9i",
        "outputId": "423fa0fb-a48e-4150-8482-2267085ecd47"
      },
      "execution_count": 7,
      "outputs": [
        {
          "output_type": "stream",
          "name": "stderr",
          "text": [
            "[nltk_data] Downloading package stopwords to /root/nltk_data...\n",
            "[nltk_data]   Unzipping corpora/stopwords.zip.\n"
          ]
        },
        {
          "output_type": "stream",
          "name": "stdout",
          "text": [
            "(66, 7876)\n",
            "(17, 7876)\n"
          ]
        }
      ]
    },
    {
      "cell_type": "code",
      "source": [
        "# Bernoulli Naïve Bayes model\n",
        "from sklearn.naive_bayes import BernoulliNB\n",
        "naive_bayes = BernoulliNB()\n",
        "naive_bayes.fit(Xtrain, y_train)\n",
        "\n",
        "# get accuracy score on the test set\n",
        "from sklearn.metrics import accuracy_score, precision_score, recall_score, f1_score, confusion_matrix\n",
        "pred = naive_bayes.predict(Xtest)\n",
        "print(accuracy_score(y_test, pred))"
      ],
      "metadata": {
        "colab": {
          "base_uri": "https://localhost:8080/"
        },
        "id": "Ztq_gCxkmWmb",
        "outputId": "d33747b8-7997-4c89-9303-43e6408b24d0"
      },
      "execution_count": 8,
      "outputs": [
        {
          "output_type": "stream",
          "name": "stdout",
          "text": [
            "0.5882352941176471\n"
          ]
        }
      ]
    },
    {
      "cell_type": "markdown",
      "source": [
        "The accuracy on the test set with the Naïve Bayes model is 0.5882352941176471"
      ],
      "metadata": {
        "id": "GJy5VD2eoTSZ"
      }
    },
    {
      "cell_type": "code",
      "source": [
        "# redo the vectorization with max_features and bigrams\n",
        "vectorizer2 = TfidfVectorizer(stop_words=stopwords, max_features = 1000, ngram_range=(1, 2))\n",
        "Xtrain2 = vectorizer2.fit_transform(X_train)\n",
        "Xtest2 = vectorizer2.transform(X_test)\n",
        "\n",
        "# try Naïve Bayes again on the new train/test vectors\n",
        "naive_bayes2 = BernoulliNB()\n",
        "naive_bayes2.fit(Xtrain2, y_train)\n",
        "pred = naive_bayes2.predict(Xtest2)\n",
        "print(accuracy_score(y_test, pred))"
      ],
      "metadata": {
        "colab": {
          "base_uri": "https://localhost:8080/"
        },
        "id": "F1Vey9YxooP9",
        "outputId": "7e0d9af8-4b1d-4044-ed90-d633f39cae4e"
      },
      "execution_count": 9,
      "outputs": [
        {
          "output_type": "stream",
          "name": "stdout",
          "text": [
            "0.9411764705882353\n"
          ]
        }
      ]
    },
    {
      "cell_type": "markdown",
      "source": [
        "Comparing the accuracy_score from the two implementations of the Bernoulli Naïve Bayes, the second implementation with max_features set to 1000 and bigrams as a feature performed better with an accuracy score of 0.9411764705882353, which is far greater than the previous accuracy score of 0.5882352941176471."
      ],
      "metadata": {
        "id": "ST47Jxp2tz7f"
      }
    },
    {
      "cell_type": "code",
      "source": [
        "# logistic regression\n",
        "from sklearn.pipeline import Pipeline\n",
        "from sklearn.feature_extraction.text import TfidfVectorizer\n",
        "from sklearn.linear_model import LogisticRegression\n",
        "from sklearn.metrics import accuracy_score, precision_score, recall_score, f1_score, log_loss\n",
        "\n",
        "vectorizer3 = TfidfVectorizer(stop_words=stopwords)\n",
        "Xtrain3 = vectorizer3.fit_transform(X_train)\n",
        "Xtest3 = vectorizer3.transform(X_test)\n",
        "\n",
        "classifier = LogisticRegression(solver='lbfgs', class_weight='balanced')\n",
        "classifier.fit(Xtrain3, y_train)\n",
        "pred = classifier.predict(Xtest3)\n",
        "print('accuracy score: ', accuracy_score(y_test, pred))\n",
        "\n",
        "# adjust at least one parameter\n",
        "classifier = LogisticRegression(class_weight='balanced',\n",
        "                                    fit_intercept=False, \n",
        "                                    solver='lbfgs')\n",
        "classifier.fit(Xtrain3, y_train)\n",
        "pred = classifier.predict(Xtest3)\n",
        "print('accuracy score with fit_intecept=False: ', accuracy_score(y_test, pred))"
      ],
      "metadata": {
        "colab": {
          "base_uri": "https://localhost:8080/"
        },
        "id": "oienD-7WvEMl",
        "outputId": "f6f88d50-5e57-44fb-9d08-aa5fa9e53b05"
      },
      "execution_count": 28,
      "outputs": [
        {
          "output_type": "stream",
          "name": "stdout",
          "text": [
            "accuracy score:  0.7058823529411765\n",
            "accuracy score with fit_intecept=False:  0.8823529411764706\n"
          ]
        }
      ]
    },
    {
      "cell_type": "markdown",
      "source": [
        "By changing the parameter fit_intercept from its default state of True to False, the accuracy score of the results increased."
      ],
      "metadata": {
        "id": "6ozBpkv2nL0K"
      }
    },
    {
      "cell_type": "code",
      "source": [
        "# neural network\n",
        "\n",
        "# text preprocessing\n",
        "from sklearn.pipeline import Pipeline\n",
        "from sklearn.feature_extraction.text import TfidfVectorizer\n",
        "from sklearn.neural_network import MLPClassifier\n",
        "from sklearn.metrics import accuracy_score, precision_score, recall_score, f1_score, log_loss\n",
        "\n",
        "\n",
        "vectorizer4 = TfidfVectorizer(stop_words=stopwords)\n",
        "Xtrain4 = vectorizer4.fit_transform(X_train)\n",
        "Xtest4 = vectorizer4.transform(X_test)\n",
        "\n",
        "classifier = MLPClassifier(solver='lbfgs', alpha=1e-5, hidden_layer_sizes=(15, 7), random_state=1234)\n",
        "classifier.fit(Xtrain4, y_train)\n",
        "pred = classifier.predict(Xtest4)\n",
        "print('accuracy score: ', accuracy_score(y_test, pred))\n",
        "\n",
        "classifier2 = MLPClassifier(solver='lbfgs', alpha=1e-5, hidden_layer_sizes=(150, 100), random_state=1234)\n",
        "classifier2.fit(Xtrain4, y_train)\n",
        "pred2 = classifier2.predict(Xtest4)\n",
        "print('accuracy score: ', accuracy_score(y_test, pred2))\n",
        "\n",
        "classifier3 = MLPClassifier(solver='adam', alpha=1e-5, hidden_layer_sizes=(15, 7), random_state=1234)\n",
        "classifier3.fit(Xtrain4, y_train)\n",
        "pred3 = classifier3.predict(Xtest4)\n",
        "print('accuracy score: ', accuracy_score(y_test, pred3))\n",
        "\n",
        "classifier4 = MLPClassifier(solver='adam', alpha=1e-5, hidden_layer_sizes=(150, 100), random_state=1234)\n",
        "classifier4.fit(Xtrain4, y_train)\n",
        "pred4 = classifier4.predict(Xtest4)\n",
        "print('accuracy score: ', accuracy_score(y_test, pred4))\n",
        "\n",
        "classifier5 = MLPClassifier(solver='adam', alpha=1e-5, hidden_layer_sizes=(20, 1000), random_state=1234)\n",
        "classifier5.fit(Xtrain4, y_train)\n",
        "pred5 = classifier5.predict(Xtest4)\n",
        "print('accuracy score: ', accuracy_score(y_test, pred5))"
      ],
      "metadata": {
        "colab": {
          "base_uri": "https://localhost:8080/"
        },
        "id": "cFqGueO3ndPK",
        "outputId": "f835e155-a66c-4932-ccd8-cf54faec0a63"
      },
      "execution_count": 47,
      "outputs": [
        {
          "output_type": "stream",
          "name": "stdout",
          "text": [
            "accuracy score:  0.7058823529411765\n",
            "accuracy score:  0.7647058823529411\n"
          ]
        },
        {
          "output_type": "stream",
          "name": "stderr",
          "text": [
            "/usr/local/lib/python3.7/dist-packages/sklearn/neural_network/_multilayer_perceptron.py:696: ConvergenceWarning: Stochastic Optimizer: Maximum iterations (200) reached and the optimization hasn't converged yet.\n",
            "  ConvergenceWarning,\n"
          ]
        },
        {
          "output_type": "stream",
          "name": "stdout",
          "text": [
            "accuracy score:  0.6470588235294118\n",
            "accuracy score:  0.7058823529411765\n",
            "accuracy score:  0.7058823529411765\n"
          ]
        }
      ]
    },
    {
      "cell_type": "markdown",
      "source": [
        "After trying several topologies, the one with the highest accuracy was a MLPClassifier using the adam solver and with (20, 1000) hidden layer sizes. The highest accuracy was 0.7647058823529411"
      ],
      "metadata": {
        "id": "mK4Grh91s6Wk"
      }
    }
  ]
}