{
  "nbformat": 4,
  "nbformat_minor": 0,
  "metadata": {
    "colab": {
      "provenance": [],
      "collapsed_sections": []
    },
    "kernelspec": {
      "name": "python3",
      "display_name": "Python 3"
    },
    "language_info": {
      "name": "python"
    }
  },
  "cells": [
    {
      "cell_type": "markdown",
      "source": [
        "Recommended header from instructions\n",
        "Additionally, I downloaded the extra packages because text1 refused to import without them."
      ],
      "metadata": {
        "id": "j6uGuoiE1ro9"
      }
    },
    {
      "cell_type": "code",
      "execution_count": 18,
      "metadata": {
        "colab": {
          "base_uri": "https://localhost:8080/"
        },
        "id": "7Kppqe30eZg3",
        "outputId": "6d7eec04-01ec-4c8a-f453-ad549d27fcb6"
      },
      "outputs": [
        {
          "output_type": "stream",
          "name": "stderr",
          "text": [
            "[nltk_data] Downloading package stopwords to /root/nltk_data...\n",
            "[nltk_data]   Package stopwords is already up-to-date!\n",
            "[nltk_data] Downloading package wordnet to /root/nltk_data...\n",
            "[nltk_data]   Package wordnet is already up-to-date!\n",
            "[nltk_data] Downloading package punkt to /root/nltk_data...\n",
            "[nltk_data]   Package punkt is already up-to-date!\n",
            "[nltk_data] Downloading package omw-1.4 to /root/nltk_data...\n",
            "[nltk_data]   Package omw-1.4 is already up-to-date!\n",
            "[nltk_data] Downloading package gutenberg to /root/nltk_data...\n",
            "[nltk_data]   Package gutenberg is already up-to-date!\n",
            "[nltk_data] Downloading package genesis to /root/nltk_data...\n",
            "[nltk_data]   Package genesis is already up-to-date!\n",
            "[nltk_data] Downloading package inaugural to /root/nltk_data...\n",
            "[nltk_data]   Package inaugural is already up-to-date!\n",
            "[nltk_data] Downloading package nps_chat to /root/nltk_data...\n",
            "[nltk_data]   Package nps_chat is already up-to-date!\n",
            "[nltk_data] Downloading package treebank to /root/nltk_data...\n",
            "[nltk_data]   Package treebank is already up-to-date!\n",
            "[nltk_data] Downloading package webtext to /root/nltk_data...\n",
            "[nltk_data]   Unzipping corpora/webtext.zip.\n"
          ]
        },
        {
          "output_type": "execute_result",
          "data": {
            "text/plain": [
              "True"
            ]
          },
          "metadata": {},
          "execution_count": 18
        }
      ],
      "source": [
        "import nltk\n",
        "nltk.download('stopwords')\n",
        "nltk.download('wordnet')\n",
        "nltk.download('punkt')\n",
        "nltk.download('omw-1.4')\n",
        "\n",
        "nltk.download('gutenberg')\n",
        "nltk.download('genesis')\n",
        "nltk.download('inaugural')\n",
        "nltk.download('nps_chat')\n",
        "nltk.download('treebank')\n",
        "nltk.download('webtext')\n"
      ]
    },
    {
      "cell_type": "markdown",
      "source": [
        "Import text1 from nltk's provided book package.\n",
        "\n",
        "Print a slice of the first 20 elements in the text1's tokens array."
      ],
      "metadata": {
        "id": "ngGEWXiP2gYN"
      }
    },
    {
      "cell_type": "code",
      "source": [
        "from nltk.book import text1\n",
        "print(text1.tokens[:20])"
      ],
      "metadata": {
        "colab": {
          "base_uri": "https://localhost:8080/"
        },
        "id": "enx-cVJUg6Br",
        "outputId": "6c45e3af-991c-4863-ad7a-6aad29e10607"
      },
      "execution_count": 19,
      "outputs": [
        {
          "output_type": "stream",
          "name": "stdout",
          "text": [
            "*** Introductory Examples for the NLTK Book ***\n",
            "Loading text1, ..., text9 and sent1, ..., sent9\n",
            "Type the name of the text or sentence to view it.\n",
            "Type: 'texts()' or 'sents()' to list the materials.\n",
            "text1: Moby Dick by Herman Melville 1851\n",
            "text2: Sense and Sensibility by Jane Austen 1811\n",
            "text3: The Book of Genesis\n",
            "text4: Inaugural Address Corpus\n",
            "text5: Chat Corpus\n",
            "text6: Monty Python and the Holy Grail\n",
            "text7: Wall Street Journal\n",
            "text8: Personals Corpus\n",
            "text9: The Man Who Was Thursday by G . K . Chesterton 1908\n",
            "['[', 'Moby', 'Dick', 'by', 'Herman', 'Melville', '1851', ']', 'ETYMOLOGY', '.', '(', 'Supplied', 'by', 'a', 'Late', 'Consumptive', 'Usher', 'to', 'a', 'Grammar']\n"
          ]
        }
      ]
    },
    {
      "cell_type": "markdown",
      "source": [
        "Use the concordance method to find and display 5 lines from text1 containing the word 'sea'."
      ],
      "metadata": {
        "id": "2e7RBMr43Rs6"
      }
    },
    {
      "cell_type": "code",
      "source": [
        "print(text1.concordance('sea', lines=5))"
      ],
      "metadata": {
        "colab": {
          "base_uri": "https://localhost:8080/"
        },
        "id": "VISR7oS5jjJJ",
        "outputId": "ca5ecb46-e3f4-493f-c4bf-2a1f03151b09"
      },
      "execution_count": 20,
      "outputs": [
        {
          "output_type": "stream",
          "name": "stdout",
          "text": [
            "Displaying 5 of 455 matches:\n",
            " shall slay the dragon that is in the sea .\" -- ISAIAH \" And what thing soever \n",
            " S PLUTARCH ' S MORALS . \" The Indian Sea breedeth the most and the biggest fis\n",
            "cely had we proceeded two days on the sea , when about sunrise a great many Wha\n",
            "many Whales and other monsters of the sea , appeared . Among the former , one w\n",
            " waves on all sides , and beating the sea before him into a foam .\" -- TOOKE ' \n",
            "None\n"
          ]
        }
      ]
    },
    {
      "cell_type": "markdown",
      "source": [
        "The count method in the Text class is a wrapper function around tokens.count. As such, both the API method and the native Python method are exactly the same, as is confirmed by the following assertion."
      ],
      "metadata": {
        "id": "nSJqJTzd3k_o"
      }
    },
    {
      "cell_type": "code",
      "source": [
        "assert text1.count('the') == text1.tokens.count('the')"
      ],
      "metadata": {
        "id": "72CZ9KQBkM5x"
      },
      "execution_count": 21,
      "outputs": []
    },
    {
      "cell_type": "markdown",
      "source": [
        "Store some text in raw_text, tokenize it using nltk's work_tokenize function, then print a slice of the first ten elements of the resulting tokens.\n",
        "\n",
        "Use the following text from wikipedia page for Python https://en.wikipedia.org/wiki/Python_(programming_language)\n",
        "\n",
        "Rather than building all of its functionality into its core, Python was designed to be highly extensible via modules. This compact modularity has made it particularly popular as a means of adding programmable interfaces to existing applications. Van Rossum's vision of a small core language with a large standard library and easily extensible interpreter stemmed from his frustrations with ABC, which espoused the opposite approach. Python strives for a simpler, less-cluttered syntax and grammar while giving developers a choice in their coding methodology. In contrast to Perl's \\\"there is more than one way to do it\\\" motto, Python embraces a \\\"there should be one—and preferably only one—obvious way to do it\\\" philosophy. Alex Martelli, a Fellow at the Python Software Foundation and Python book author, wrote: \\\"To describe something as 'clever' is not considered a compliment in the Python culture.\\\" Python's developers strive to avoid premature optimization and reject patches to non-critical parts of the CPython reference implementation that would offer marginal increases in speed at the cost of clarity. When speed is important, a Python programmer can move time-critical functions to extension modules written in languages such as C; or use PyPy, a just-in-time compiler. Cython is also available, which translates a Python script into C and makes direct C-level API calls into the Python interpreter. Python's developers aim for it to be fun to use. This is reflected in its name—a tribute to the British comedy group Monty Python—and in occasionally playful approaches to tutorials and reference materials, such as examples that refer to spam and eggs (a reference to a Monty Python sketch) instead of the standard foo and bar."
      ],
      "metadata": {
        "id": "uNvPMeal33uU"
      }
    },
    {
      "cell_type": "code",
      "source": [
        "from nltk import word_tokenize\n",
        "raw_text = \"Rather than building all of its functionality into its core, Python was designed to be highly extensible via modules. This compact modularity has made it particularly popular as a means of adding programmable interfaces to existing applications. Van Rossum's vision of a small core language with a large standard library and easily extensible interpreter stemmed from his frustrations with ABC, which espoused the opposite approach. Python strives for a simpler, less-cluttered syntax and grammar while giving developers a choice in their coding methodology. In contrast to Perl's \\\"there is more than one way to do it\\\" motto, Python embraces a \\\"there should be one—and preferably only one—obvious way to do it\\\" philosophy. Alex Martelli, a Fellow at the Python Software Foundation and Python book author, wrote: \\\"To describe something as 'clever' is not considered a compliment in the Python culture.\\\" Python's developers strive to avoid premature optimization and reject patches to non-critical parts of the CPython reference implementation that would offer marginal increases in speed at the cost of clarity. When speed is important, a Python programmer can move time-critical functions to extension modules written in languages such as C; or use PyPy, a just-in-time compiler. Cython is also available, which translates a Python script into C and makes direct C-level API calls into the Python interpreter. Python's developers aim for it to be fun to use. This is reflected in its name—a tribute to the British comedy group Monty Python—and in occasionally playful approaches to tutorials and reference materials, such as examples that refer to spam and eggs (a reference to a Monty Python sketch) instead of the standard foo and bar.\"\n",
        "tokens = word_tokenize(raw_text)\n",
        "print(tokens[:10])\n"
      ],
      "metadata": {
        "colab": {
          "base_uri": "https://localhost:8080/"
        },
        "id": "nbh09H6jiNHY",
        "outputId": "fcf2fafb-593c-4a74-e17d-8b3addff4fd5"
      },
      "execution_count": 22,
      "outputs": [
        {
          "output_type": "stream",
          "name": "stdout",
          "text": [
            "['Rather', 'than', 'building', 'all', 'of', 'its', 'functionality', 'into', 'its', 'core']\n"
          ]
        }
      ]
    },
    {
      "cell_type": "markdown",
      "source": [
        "Use the same raw text as the last code block, tokenize that text into sentences using nltk's sent_tokenize function, then print the result."
      ],
      "metadata": {
        "id": "IJtNHeXY4nkM"
      }
    },
    {
      "cell_type": "code",
      "source": [
        "from nltk import sent_tokenize\n",
        "tokens = sent_tokenize(raw_text)\n",
        "print(tokens)"
      ],
      "metadata": {
        "colab": {
          "base_uri": "https://localhost:8080/"
        },
        "id": "obviRVUOkEhI",
        "outputId": "6b6dcb6c-7ea3-4c59-cefb-ae4e4b9b3f07"
      },
      "execution_count": 23,
      "outputs": [
        {
          "output_type": "stream",
          "name": "stdout",
          "text": [
            "['Rather than building all of its functionality into its core, Python was designed to be highly extensible via modules.', 'This compact modularity has made it particularly popular as a means of adding programmable interfaces to existing applications.', \"Van Rossum's vision of a small core language with a large standard library and easily extensible interpreter stemmed from his frustrations with ABC, which espoused the opposite approach.\", 'Python strives for a simpler, less-cluttered syntax and grammar while giving developers a choice in their coding methodology.', 'In contrast to Perl\\'s \"there is more than one way to do it\" motto, Python embraces a \"there should be one—and preferably only one—obvious way to do it\" philosophy.', 'Alex Martelli, a Fellow at the Python Software Foundation and Python book author, wrote: \"To describe something as \\'clever\\' is not considered a compliment in the Python culture.\"', \"Python's developers strive to avoid premature optimization and reject patches to non-critical parts of the CPython reference implementation that would offer marginal increases in speed at the cost of clarity.\", 'When speed is important, a Python programmer can move time-critical functions to extension modules written in languages such as C; or use PyPy, a just-in-time compiler.', 'Cython is also available, which translates a Python script into C and makes direct C-level API calls into the Python interpreter.', \"Python's developers aim for it to be fun to use.\", 'This is reflected in its name—a tribute to the British comedy group Monty Python—and in occasionally playful approaches to tutorials and reference materials, such as examples that refer to spam and eggs (a reference to a Monty Python sketch) instead of the standard foo and bar.']\n"
          ]
        }
      ]
    },
    {
      "cell_type": "markdown",
      "source": [
        "Use list comprehension to map word_tokeized raw text into an array of stemmed tokens, then print the result"
      ],
      "metadata": {
        "id": "a3WbdDj_4y6h"
      }
    },
    {
      "cell_type": "code",
      "source": [
        "from nltk.stem.porter import *\n",
        "\n",
        "tokens = word_tokenize(raw_text)\n",
        "\n",
        "stemmer = PorterStemmer()\n",
        "stemmed = [stemmer.stem(t) for t in tokens]\n",
        "print('stemmed tokens:\\n', stemmed)\n"
      ],
      "metadata": {
        "colab": {
          "base_uri": "https://localhost:8080/"
        },
        "id": "7k0l95gNk1Rn",
        "outputId": "6072fe63-7448-4bb4-db41-329dc87cc4d7"
      },
      "execution_count": 24,
      "outputs": [
        {
          "output_type": "stream",
          "name": "stdout",
          "text": [
            "stemmed tokens:\n",
            " ['rather', 'than', 'build', 'all', 'of', 'it', 'function', 'into', 'it', 'core', ',', 'python', 'wa', 'design', 'to', 'be', 'highli', 'extens', 'via', 'modul', '.', 'thi', 'compact', 'modular', 'ha', 'made', 'it', 'particularli', 'popular', 'as', 'a', 'mean', 'of', 'ad', 'programm', 'interfac', 'to', 'exist', 'applic', '.', 'van', 'rossum', \"'s\", 'vision', 'of', 'a', 'small', 'core', 'languag', 'with', 'a', 'larg', 'standard', 'librari', 'and', 'easili', 'extens', 'interpret', 'stem', 'from', 'hi', 'frustrat', 'with', 'abc', ',', 'which', 'espous', 'the', 'opposit', 'approach', '.', 'python', 'strive', 'for', 'a', 'simpler', ',', 'less-clutt', 'syntax', 'and', 'grammar', 'while', 'give', 'develop', 'a', 'choic', 'in', 'their', 'code', 'methodolog', '.', 'in', 'contrast', 'to', 'perl', \"'s\", '``', 'there', 'is', 'more', 'than', 'one', 'way', 'to', 'do', 'it', \"''\", 'motto', ',', 'python', 'embrac', 'a', '``', 'there', 'should', 'be', 'one—and', 'prefer', 'onli', 'one—obvi', 'way', 'to', 'do', 'it', \"''\", 'philosophi', '.', 'alex', 'martelli', ',', 'a', 'fellow', 'at', 'the', 'python', 'softwar', 'foundat', 'and', 'python', 'book', 'author', ',', 'wrote', ':', '``', 'to', 'describ', 'someth', 'as', \"'clever\", \"'\", 'is', 'not', 'consid', 'a', 'compliment', 'in', 'the', 'python', 'cultur', '.', \"''\", 'python', \"'s\", 'develop', 'strive', 'to', 'avoid', 'prematur', 'optim', 'and', 'reject', 'patch', 'to', 'non-crit', 'part', 'of', 'the', 'cpython', 'refer', 'implement', 'that', 'would', 'offer', 'margin', 'increas', 'in', 'speed', 'at', 'the', 'cost', 'of', 'clariti', '.', 'when', 'speed', 'is', 'import', ',', 'a', 'python', 'programm', 'can', 'move', 'time-crit', 'function', 'to', 'extens', 'modul', 'written', 'in', 'languag', 'such', 'as', 'c', ';', 'or', 'use', 'pypi', ',', 'a', 'just-in-tim', 'compil', '.', 'cython', 'is', 'also', 'avail', ',', 'which', 'translat', 'a', 'python', 'script', 'into', 'c', 'and', 'make', 'direct', 'c-level', 'api', 'call', 'into', 'the', 'python', 'interpret', '.', 'python', \"'s\", 'develop', 'aim', 'for', 'it', 'to', 'be', 'fun', 'to', 'use', '.', 'thi', 'is', 'reflect', 'in', 'it', 'name—a', 'tribut', 'to', 'the', 'british', 'comedi', 'group', 'monti', 'python—and', 'in', 'occasion', 'play', 'approach', 'to', 'tutori', 'and', 'refer', 'materi', ',', 'such', 'as', 'exampl', 'that', 'refer', 'to', 'spam', 'and', 'egg', '(', 'a', 'refer', 'to', 'a', 'monti', 'python', 'sketch', ')', 'instead', 'of', 'the', 'standard', 'foo', 'and', 'bar', '.']\n"
          ]
        }
      ]
    },
    {
      "cell_type": "markdown",
      "source": [
        "Use list comprehesion to map word_tokenized tokens into an array of lemmatized words, then print the result"
      ],
      "metadata": {
        "id": "Yfx5_UN149pa"
      }
    },
    {
      "cell_type": "code",
      "source": [
        "from nltk.stem import WordNetLemmatizer\n",
        "\n",
        "wnl = WordNetLemmatizer()\n",
        "lemmatized = [wnl.lemmatize(t) for t in tokens]\n",
        "print('lemmatized tokens:\\n', lemmatized)"
      ],
      "metadata": {
        "colab": {
          "base_uri": "https://localhost:8080/"
        },
        "id": "llPknpIUzoD4",
        "outputId": "ed639fa2-2829-4a04-bff3-c01d3aaaa3b4"
      },
      "execution_count": 13,
      "outputs": [
        {
          "output_type": "stream",
          "name": "stdout",
          "text": [
            "\n",
            "lemmatized tokens:\n",
            " ['Rather', 'than', 'building', 'all', 'of', 'it', 'functionality', 'into', 'it', 'core', ',', 'Python', 'wa', 'designed', 'to', 'be', 'highly', 'extensible', 'via', 'module', '.', 'This', 'compact', 'modularity', 'ha', 'made', 'it', 'particularly', 'popular', 'a', 'a', 'mean', 'of', 'adding', 'programmable', 'interface', 'to', 'existing', 'application', '.', 'Van', 'Rossum', \"'s\", 'vision', 'of', 'a', 'small', 'core', 'language', 'with', 'a', 'large', 'standard', 'library', 'and', 'easily', 'extensible', 'interpreter', 'stemmed', 'from', 'his', 'frustration', 'with', 'ABC', ',', 'which', 'espoused', 'the', 'opposite', 'approach', '.', 'Python', 'strives', 'for', 'a', 'simpler', ',', 'less-cluttered', 'syntax', 'and', 'grammar', 'while', 'giving', 'developer', 'a', 'choice', 'in', 'their', 'coding', 'methodology', '.', 'In', 'contrast', 'to', 'Perl', \"'s\", '``', 'there', 'is', 'more', 'than', 'one', 'way', 'to', 'do', 'it', \"''\", 'motto', ',', 'Python', 'embrace', 'a', '``', 'there', 'should', 'be', 'one—and', 'preferably', 'only', 'one—obvious', 'way', 'to', 'do', 'it', \"''\", 'philosophy', '.', 'Alex', 'Martelli', ',', 'a', 'Fellow', 'at', 'the', 'Python', 'Software', 'Foundation', 'and', 'Python', 'book', 'author', ',', 'wrote', ':', '``', 'To', 'describe', 'something', 'a', \"'clever\", \"'\", 'is', 'not', 'considered', 'a', 'compliment', 'in', 'the', 'Python', 'culture', '.', \"''\", 'Python', \"'s\", 'developer', 'strive', 'to', 'avoid', 'premature', 'optimization', 'and', 'reject', 'patch', 'to', 'non-critical', 'part', 'of', 'the', 'CPython', 'reference', 'implementation', 'that', 'would', 'offer', 'marginal', 'increase', 'in', 'speed', 'at', 'the', 'cost', 'of', 'clarity', '.', 'When', 'speed', 'is', 'important', ',', 'a', 'Python', 'programmer', 'can', 'move', 'time-critical', 'function', 'to', 'extension', 'module', 'written', 'in', 'language', 'such', 'a', 'C', ';', 'or', 'use', 'PyPy', ',', 'a', 'just-in-time', 'compiler', '.', 'Cython', 'is', 'also', 'available', ',', 'which', 'translates', 'a', 'Python', 'script', 'into', 'C', 'and', 'make', 'direct', 'C-level', 'API', 'call', 'into', 'the', 'Python', 'interpreter', '.', 'Python', \"'s\", 'developer', 'aim', 'for', 'it', 'to', 'be', 'fun', 'to', 'use', '.', 'This', 'is', 'reflected', 'in', 'it', 'name—a', 'tribute', 'to', 'the', 'British', 'comedy', 'group', 'Monty', 'Python—and', 'in', 'occasionally', 'playful', 'approach', 'to', 'tutorial', 'and', 'reference', 'material', ',', 'such', 'a', 'example', 'that', 'refer', 'to', 'spam', 'and', 'egg', '(', 'a', 'reference', 'to', 'a', 'Monty', 'Python', 'sketch', ')', 'instead', 'of', 'the', 'standard', 'foo', 'and', 'bar', '.']\n"
          ]
        }
      ]
    },
    {
      "cell_type": "markdown",
      "source": [
        "#Differences (Stemmed-Lemmatized)\n",
        "build-building\n",
        "\n",
        "function-functionality\n",
        "\n",
        "design-designed\n",
        "\n",
        "highli-highly\n",
        "\n",
        "extens-extensible\n",
        "\n",
        "\n"
      ],
      "metadata": {
        "id": "IJ8Rizok0uZC"
      }
    },
    {
      "cell_type": "markdown",
      "source": [
        "NLTK offers a wide range of functionality to assist with natural language processing in Python. It's easy to use, the source code is well documented and clean, and the library is overall beginner-friendly and high quality. For future projects, I can see myself using NLP, and NLTK specifically, to stem words from a short source text and match the generated tokens against a list of words to generate a seed for pseudorandom world/art/text generators."
      ],
      "metadata": {
        "id": "SS-4j4NL5Yts"
      }
    }
  ]
}